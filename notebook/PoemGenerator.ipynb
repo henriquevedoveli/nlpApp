{
  "nbformat": 4,
  "nbformat_minor": 0,
  "metadata": {
    "colab": {
      "name": "PoemGenerator.ipynb",
      "provenance": [],
      "mount_file_id": "1pFF5iK_XLFPa6gMEC5irBCfviRqD_5kD",
      "authorship_tag": "ABX9TyMJSm23UEes2ODxifBgp98v",
      "include_colab_link": true
    },
    "kernelspec": {
      "name": "python3",
      "display_name": "Python 3"
    },
    "language_info": {
      "name": "python"
    }
  },
  "cells": [
    {
      "cell_type": "markdown",
      "metadata": {
        "id": "view-in-github",
        "colab_type": "text"
      },
      "source": [
        "<a href=\"https://colab.research.google.com/github/henriquevedoveli/nlpApp/blob/main/notebook/PoemGenerator.ipynb\" target=\"_parent\"><img src=\"https://colab.research.google.com/assets/colab-badge.svg\" alt=\"Open In Colab\"/></a>"
      ]
    },
    {
      "cell_type": "markdown",
      "metadata": {
        "id": "AY9WGYDlB1K_"
      },
      "source": [
        "# Gerador de Poemas\n",
        "----\n",
        "\n",
        "### Objetivo: Criar um modelo que gere poemas automáticos utilizando probablidade.\n",
        "\n",
        "### Dados: Disponível em: https://www.kaggle.com/oliveirasp6/poems-in-portuguese\n",
        "\n"
      ]
    },
    {
      "cell_type": "markdown",
      "metadata": {
        "id": "tfwiCvLXCdz-"
      },
      "source": [
        "Bibliotecas Necessárias"
      ]
    },
    {
      "cell_type": "code",
      "metadata": {
        "colab": {
          "base_uri": "https://localhost:8080/"
        },
        "id": "oPGVqujbByYA",
        "outputId": "76a54b55-fb63-4e30-9f95-7edb21da385a"
      },
      "source": [
        "# montando drive\n",
        "from google.colab import drive\n",
        "drive.mount('/content/drive')\n",
        "\n",
        "import pandas as pd\n",
        "import numpy as np\n",
        "import matplotlib.pyplot as plt\n",
        "import re # para expressoes regulares\n",
        "import nltk\n",
        "from nltk.util import bigrams, trigrams \n",
        "from collections import Counter # para contar os bigramas e trigramas\n",
        "\n",
        "#bibliotecas para deteccao de idiomas\n",
        "import spacy\n",
        "!python3 -m spacy download pt\n",
        "!pip install spacy-langdetect\n",
        "from spacy_langdetect import LanguageDetector\n",
        "pln = spacy.load('pt')\n",
        "pln"
      ],
      "execution_count": null,
      "outputs": [
        {
          "output_type": "stream",
          "text": [
            "Drive already mounted at /content/drive; to attempt to forcibly remount, call drive.mount(\"/content/drive\", force_remount=True).\n",
            "Requirement already satisfied: pt_core_news_sm==2.2.5 from https://github.com/explosion/spacy-models/releases/download/pt_core_news_sm-2.2.5/pt_core_news_sm-2.2.5.tar.gz#egg=pt_core_news_sm==2.2.5 in /usr/local/lib/python3.7/dist-packages (2.2.5)\n",
            "Requirement already satisfied: spacy>=2.2.2 in /usr/local/lib/python3.7/dist-packages (from pt_core_news_sm==2.2.5) (2.2.4)\n",
            "Requirement already satisfied: plac<1.2.0,>=0.9.6 in /usr/local/lib/python3.7/dist-packages (from spacy>=2.2.2->pt_core_news_sm==2.2.5) (1.1.3)\n",
            "Requirement already satisfied: thinc==7.4.0 in /usr/local/lib/python3.7/dist-packages (from spacy>=2.2.2->pt_core_news_sm==2.2.5) (7.4.0)\n",
            "Requirement already satisfied: setuptools in /usr/local/lib/python3.7/dist-packages (from spacy>=2.2.2->pt_core_news_sm==2.2.5) (57.0.0)\n",
            "Requirement already satisfied: preshed<3.1.0,>=3.0.2 in /usr/local/lib/python3.7/dist-packages (from spacy>=2.2.2->pt_core_news_sm==2.2.5) (3.0.5)\n",
            "Requirement already satisfied: numpy>=1.15.0 in /usr/local/lib/python3.7/dist-packages (from spacy>=2.2.2->pt_core_news_sm==2.2.5) (1.19.5)\n",
            "Requirement already satisfied: tqdm<5.0.0,>=4.38.0 in /usr/local/lib/python3.7/dist-packages (from spacy>=2.2.2->pt_core_news_sm==2.2.5) (4.41.1)\n",
            "Requirement already satisfied: blis<0.5.0,>=0.4.0 in /usr/local/lib/python3.7/dist-packages (from spacy>=2.2.2->pt_core_news_sm==2.2.5) (0.4.1)\n",
            "Requirement already satisfied: requests<3.0.0,>=2.13.0 in /usr/local/lib/python3.7/dist-packages (from spacy>=2.2.2->pt_core_news_sm==2.2.5) (2.23.0)\n",
            "Requirement already satisfied: catalogue<1.1.0,>=0.0.7 in /usr/local/lib/python3.7/dist-packages (from spacy>=2.2.2->pt_core_news_sm==2.2.5) (1.0.0)\n",
            "Requirement already satisfied: wasabi<1.1.0,>=0.4.0 in /usr/local/lib/python3.7/dist-packages (from spacy>=2.2.2->pt_core_news_sm==2.2.5) (0.8.2)\n",
            "Requirement already satisfied: srsly<1.1.0,>=1.0.2 in /usr/local/lib/python3.7/dist-packages (from spacy>=2.2.2->pt_core_news_sm==2.2.5) (1.0.5)\n",
            "Requirement already satisfied: murmurhash<1.1.0,>=0.28.0 in /usr/local/lib/python3.7/dist-packages (from spacy>=2.2.2->pt_core_news_sm==2.2.5) (1.0.5)\n",
            "Requirement already satisfied: cymem<2.1.0,>=2.0.2 in /usr/local/lib/python3.7/dist-packages (from spacy>=2.2.2->pt_core_news_sm==2.2.5) (2.0.5)\n",
            "Requirement already satisfied: urllib3!=1.25.0,!=1.25.1,<1.26,>=1.21.1 in /usr/local/lib/python3.7/dist-packages (from requests<3.0.0,>=2.13.0->spacy>=2.2.2->pt_core_news_sm==2.2.5) (1.24.3)\n",
            "Requirement already satisfied: chardet<4,>=3.0.2 in /usr/local/lib/python3.7/dist-packages (from requests<3.0.0,>=2.13.0->spacy>=2.2.2->pt_core_news_sm==2.2.5) (3.0.4)\n",
            "Requirement already satisfied: certifi>=2017.4.17 in /usr/local/lib/python3.7/dist-packages (from requests<3.0.0,>=2.13.0->spacy>=2.2.2->pt_core_news_sm==2.2.5) (2020.12.5)\n",
            "Requirement already satisfied: idna<3,>=2.5 in /usr/local/lib/python3.7/dist-packages (from requests<3.0.0,>=2.13.0->spacy>=2.2.2->pt_core_news_sm==2.2.5) (2.10)\n",
            "Requirement already satisfied: importlib-metadata>=0.20; python_version < \"3.8\" in /usr/local/lib/python3.7/dist-packages (from catalogue<1.1.0,>=0.0.7->spacy>=2.2.2->pt_core_news_sm==2.2.5) (4.0.1)\n",
            "Requirement already satisfied: zipp>=0.5 in /usr/local/lib/python3.7/dist-packages (from importlib-metadata>=0.20; python_version < \"3.8\"->catalogue<1.1.0,>=0.0.7->spacy>=2.2.2->pt_core_news_sm==2.2.5) (3.4.1)\n",
            "Requirement already satisfied: typing-extensions>=3.6.4; python_version < \"3.8\" in /usr/local/lib/python3.7/dist-packages (from importlib-metadata>=0.20; python_version < \"3.8\"->catalogue<1.1.0,>=0.0.7->spacy>=2.2.2->pt_core_news_sm==2.2.5) (3.7.4.3)\n",
            "\u001b[38;5;2m✔ Download and installation successful\u001b[0m\n",
            "You can now load the model via spacy.load('pt_core_news_sm')\n",
            "\u001b[38;5;2m✔ Linking successful\u001b[0m\n",
            "/usr/local/lib/python3.7/dist-packages/pt_core_news_sm -->\n",
            "/usr/local/lib/python3.7/dist-packages/spacy/data/pt\n",
            "You can now load the model via spacy.load('pt')\n",
            "Requirement already satisfied: spacy-langdetect in /usr/local/lib/python3.7/dist-packages (0.1.2)\n",
            "Requirement already satisfied: langdetect==1.0.7 in /usr/local/lib/python3.7/dist-packages (from spacy-langdetect) (1.0.7)\n",
            "Requirement already satisfied: pytest in /usr/local/lib/python3.7/dist-packages (from spacy-langdetect) (3.6.4)\n",
            "Requirement already satisfied: six in /usr/local/lib/python3.7/dist-packages (from langdetect==1.0.7->spacy-langdetect) (1.15.0)\n",
            "Requirement already satisfied: setuptools in /usr/local/lib/python3.7/dist-packages (from pytest->spacy-langdetect) (57.0.0)\n",
            "Requirement already satisfied: pluggy<0.8,>=0.5 in /usr/local/lib/python3.7/dist-packages (from pytest->spacy-langdetect) (0.7.1)\n",
            "Requirement already satisfied: attrs>=17.4.0 in /usr/local/lib/python3.7/dist-packages (from pytest->spacy-langdetect) (21.2.0)\n",
            "Requirement already satisfied: py>=1.5.0 in /usr/local/lib/python3.7/dist-packages (from pytest->spacy-langdetect) (1.10.0)\n",
            "Requirement already satisfied: atomicwrites>=1.0 in /usr/local/lib/python3.7/dist-packages (from pytest->spacy-langdetect) (1.4.0)\n",
            "Requirement already satisfied: more-itertools>=4.0.0 in /usr/local/lib/python3.7/dist-packages (from pytest->spacy-langdetect) (8.7.0)\n"
          ],
          "name": "stdout"
        },
        {
          "output_type": "execute_result",
          "data": {
            "text/plain": [
              "<spacy.lang.pt.Portuguese at 0x7fc8be653510>"
            ]
          },
          "metadata": {
            "tags": []
          },
          "execution_count": 1
        }
      ]
    },
    {
      "cell_type": "markdown",
      "metadata": {
        "id": "b-pPKu7cDF-9"
      },
      "source": [
        "Carregando os dados"
      ]
    },
    {
      "cell_type": "code",
      "metadata": {
        "id": "Tg_4DPYNC-1l"
      },
      "source": [
        "data = pd.read_csv('/content/drive/MyDrive/Data Science/NLP/poemas/portuguese-poems.csv')\n"
      ],
      "execution_count": null,
      "outputs": []
    },
    {
      "cell_type": "markdown",
      "metadata": {
        "id": "sDHRZBmHDkWE"
      },
      "source": [
        "## Limpeza dos Dados"
      ]
    },
    {
      "cell_type": "code",
      "metadata": {
        "colab": {
          "base_uri": "https://localhost:8080/"
        },
        "id": "qD7KnWxFD4Xo",
        "outputId": "ace64624-18f1-4326-9616-251045fd4639"
      },
      "source": [
        "data.shape"
      ],
      "execution_count": null,
      "outputs": [
        {
          "output_type": "execute_result",
          "data": {
            "text/plain": [
              "(15543, 4)"
            ]
          },
          "metadata": {
            "tags": []
          },
          "execution_count": 3
        }
      ]
    },
    {
      "cell_type": "code",
      "metadata": {
        "colab": {
          "base_uri": "https://localhost:8080/"
        },
        "id": "hdt3ZL8ODw49",
        "outputId": "5a84843b-bd81-4f91-88e4-166992435c1c"
      },
      "source": [
        "data.info()"
      ],
      "execution_count": null,
      "outputs": [
        {
          "output_type": "stream",
          "text": [
            "<class 'pandas.core.frame.DataFrame'>\n",
            "RangeIndex: 15543 entries, 0 to 15542\n",
            "Data columns (total 4 columns):\n",
            " #   Column   Non-Null Count  Dtype \n",
            "---  ------   --------------  ----- \n",
            " 0   Author   15543 non-null  object\n",
            " 1   Title    15543 non-null  object\n",
            " 2   Content  15541 non-null  object\n",
            " 3   Views    15543 non-null  int64 \n",
            "dtypes: int64(1), object(3)\n",
            "memory usage: 485.8+ KB\n"
          ],
          "name": "stdout"
        }
      ]
    },
    {
      "cell_type": "markdown",
      "metadata": {
        "id": "cdnexAnDzhj9"
      },
      "source": [
        "### Eliminando possíveis poemas duplicados"
      ]
    },
    {
      "cell_type": "code",
      "metadata": {
        "id": "79MMhANazbIf"
      },
      "source": [
        "data.drop_duplicates(inplace=True)"
      ],
      "execution_count": null,
      "outputs": []
    },
    {
      "cell_type": "markdown",
      "metadata": {
        "id": "JRe4aBvZzm1O"
      },
      "source": [
        "### Eliminando possíveis dados nulos "
      ]
    },
    {
      "cell_type": "code",
      "metadata": {
        "colab": {
          "base_uri": "https://localhost:8080/"
        },
        "id": "X7lnuicFDfRd",
        "outputId": "40bf974e-8e24-43c0-b15a-61f6ac6ef8e1"
      },
      "source": [
        "data.isnull().sum()"
      ],
      "execution_count": null,
      "outputs": [
        {
          "output_type": "execute_result",
          "data": {
            "text/plain": [
              "Author     0\n",
              "Title      0\n",
              "Content    2\n",
              "Views      0\n",
              "dtype: int64"
            ]
          },
          "metadata": {
            "tags": []
          },
          "execution_count": 6
        }
      ]
    },
    {
      "cell_type": "markdown",
      "metadata": {
        "id": "2o8whtCED90s"
      },
      "source": [
        "---\n",
        "* Sendo assim é possível perceber que existe dois dados faltantes na categoria **Content**, portanto como são poucos dados faltantes em comparação ao dataset total, a linha desses dados faltantes serão excluidas.\n",
        "---"
      ]
    },
    {
      "cell_type": "code",
      "metadata": {
        "id": "PA5sMll6DqmN"
      },
      "source": [
        "data.dropna(subset=['Content'], inplace=True)\n",
        "data.reset_index(drop=True, inplace=True)"
      ],
      "execution_count": null,
      "outputs": []
    },
    {
      "cell_type": "markdown",
      "metadata": {
        "id": "WTh-h7shEyQF"
      },
      "source": [
        "## Visualização dos Dados"
      ]
    },
    {
      "cell_type": "code",
      "metadata": {
        "colab": {
          "base_uri": "https://localhost:8080/",
          "height": 499
        },
        "id": "j_oG8FTPEvpW",
        "outputId": "4f4814e1-7f0b-493b-d835-eec79f414224"
      },
      "source": [
        "dist_autores = data['Author'].value_counts(normalize = True)[:15]\n",
        "cont_autores = data['Author'].value_counts()[:15]\n",
        "\n",
        "plt.figure(figsize=(10,5))\n",
        "dist_autores.plot.bar()\n"
      ],
      "execution_count": null,
      "outputs": [
        {
          "output_type": "execute_result",
          "data": {
            "text/plain": [
              "<matplotlib.axes._subplots.AxesSubplot at 0x7fc8ba0c0890>"
            ]
          },
          "metadata": {
            "tags": []
          },
          "execution_count": 8
        },
        {
          "output_type": "display_data",
          "data": {
            "image/png": "[encoded data removed]",
            "text/plain": [
              "<Figure size 720x360 with 1 Axes>"
            ]
          },
          "metadata": {
            "tags": [],
            "needs_background": "light"
          }
        }
      ]
    },
    {
      "cell_type": "markdown",
      "metadata": {
        "id": "3Xsm8MEAPS8a"
      },
      "source": [
        "## Balanceamento dos Dados\n",
        "Ao analisar o gráfico da distribuição de poemas contidos no dataset é possível perceber que os dados estão desbalanceados, pois o dataset contém 14% dele apenas de poemas de um autor (Fernando Pessoa), para deixar o modelo final menos enviesado, vou retirar aleatoriamente alguns poemas do autor.\n"
      ]
    },
    {
      "cell_type": "markdown",
      "metadata": {
        "id": "2jK7Hb8CQWS7"
      },
      "source": [
        "Gerando um backup do dataset"
      ]
    },
    {
      "cell_type": "code",
      "metadata": {
        "id": "-nFbtmEINLcj"
      },
      "source": [
        "dataBK = data.copy()"
      ],
      "execution_count": null,
      "outputs": []
    },
    {
      "cell_type": "code",
      "metadata": {
        "id": "Yn-ro8YtMU3j"
      },
      "source": [
        "segAut = cont_autores[1]\n",
        "FerPes = cont_autores[0]\n",
        "lenRes = FerPes - segAut\n",
        "\n",
        "np.random.seed(10)\n",
        "\n",
        "n_rows = lenRes\n",
        "\n",
        "temp = data.query('Author == \"Fernando Pessoa\"') \n",
        "\n",
        "drop_indices = np.random.choice(temp.index, n_rows, replace=False)\n",
        "FPbal = temp.drop(drop_indices)\n"
      ],
      "execution_count": null,
      "outputs": []
    },
    {
      "cell_type": "code",
      "metadata": {
        "id": "hsycDYQiFOsd"
      },
      "source": [
        "data.drop(index = temp.index , inplace = True) # dataset balanceado\n"
      ],
      "execution_count": null,
      "outputs": []
    },
    {
      "cell_type": "code",
      "metadata": {
        "id": "dqtvlKsrPAaK"
      },
      "source": [
        "data = data.append(FPbal)"
      ],
      "execution_count": null,
      "outputs": []
    },
    {
      "cell_type": "code",
      "metadata": {
        "colab": {
          "base_uri": "https://localhost:8080/",
          "height": 499
        },
        "id": "Du500WLBJ-1k",
        "outputId": "53447499-9df1-483c-a221-c43f28f06c10"
      },
      "source": [
        "dist_autores = data['Author'].value_counts(normalize = True)[:15]\n",
        "\n",
        "plt.figure(figsize=(10,5))\n",
        "dist_autores.plot.bar()\n"
      ],
      "execution_count": null,
      "outputs": [
        {
          "output_type": "execute_result",
          "data": {
            "text/plain": [
              "<matplotlib.axes._subplots.AxesSubplot at 0x7fc8b37ef590>"
            ]
          },
          "metadata": {
            "tags": []
          },
          "execution_count": 13
        },
        {
          "output_type": "display_data",
          "data": {
            "image/png": "[encoded data removed]",
            "text/plain": [
              "<Figure size 720x360 with 1 Axes>"
            ]
          },
          "metadata": {
            "tags": [],
            "needs_background": "light"
          }
        }
      ]
    },
    {
      "cell_type": "markdown",
      "metadata": {
        "id": "iS8s0woskpC1"
      },
      "source": [
        "Explicações expressões regulares: https://developer.mozilla.org/pt-BR/docs/Web/JavaScript/Guide/Regular_Expressions"
      ]
    },
    {
      "cell_type": "markdown",
      "metadata": {
        "id": "C73QIHeUy3kB"
      },
      "source": [
        "---\n",
        "## Elimanação de Idiomas Diferentes do Português \n",
        "Durante a análise dos dados foi possível perceber que existem alguns poemas em outros idiomas diferentes do português, que serão eliminados do dataset, já que o poema final pode conter dois idomas diferentes como português e espanhol."
      ]
    },
    {
      "cell_type": "code",
      "metadata": {
        "id": "TBetbeehxfN_"
      },
      "source": [
        "def detectIdiom(data):\n",
        "    pln.add_pipe(LanguageDetector(), name='lang_detector', last= True)\n",
        "    i = 0\n",
        "    while i < len(data):\n",
        "        try:\n",
        "            texto = data['Content'][i]\n",
        "            doc = pln(texto)\n",
        "            if doc._.language['language'] != 'pt':\n",
        "                data.drop(index = i, inplace= True)\n",
        "            i+=1\n",
        "        except:\n",
        "            i+=2\n",
        "            \n",
        "    return data\n"
      ],
      "execution_count": null,
      "outputs": []
    },
    {
      "cell_type": "markdown",
      "metadata": {
        "id": "tvs4oyVpQhVa"
      },
      "source": [
        "## Corpus"
      ]
    },
    {
      "cell_type": "code",
      "metadata": {
        "id": "wdVMW-r9PPIa"
      },
      "source": [
        "def generateCorpus(data):\n",
        "    corpus = []\n",
        "    i = 0\n",
        "    while i < len(data):\n",
        "        try:\n",
        "            sent = data.Content[i].casefold().replace('\\r\\n', ' ').replace('\\n',' ')\n",
        "            sent = re.sub('([.,!?():-])', r' \\1 ', sent)\n",
        "            sent = re.sub('\\s{2,}', ' ', sent).split(' ')\n",
        "            corpus.append(sent)\n",
        "            i+=1\n",
        "        except:\n",
        "            i+=2\n",
        "\n",
        "    return corpus\n"
      ],
      "execution_count": null,
      "outputs": []
    },
    {
      "cell_type": "code",
      "metadata": {
        "id": "HnG0EnQiQv9j"
      },
      "source": [
        "def generateTags(corpus):\n",
        "    words = []\n",
        "    \n",
        "    for sentence in corpus:\n",
        "        sentence.insert(0, '<s>')\n",
        "        sentence.insert(0, '<s>')\n",
        "        sentence.append('</s>')\n",
        "        words.extend(sentence)\n",
        "        \n",
        "    return words"
      ],
      "execution_count": null,
      "outputs": []
    },
    {
      "cell_type": "code",
      "metadata": {
        "colab": {
          "base_uri": "https://localhost:8080/"
        },
        "id": "I-1Hv5_OtJUB",
        "outputId": "4ae13f90-15d3-433d-b167-16b95a8682ef"
      },
      "source": [
        "print('Tamanho do dataset antes da eleminação de idiomas diferentes do português:', len(data))\n",
        "data = detectIdiom(data)\n",
        "print('Tamanho do dataset depois da eleminação de idiomas diferentes do português:', len(data))"
      ],
      "execution_count": null,
      "outputs": [
        {
          "output_type": "stream",
          "text": [
            "Tamanho do dataset antes da eleminação de idiomas diferentes do português: 13750\n",
            "Tamanho do dataset depois da eleminação de idiomas diferentes do português: 13204\n"
          ],
          "name": "stdout"
        }
      ]
    },
    {
      "cell_type": "code",
      "metadata": {
        "id": "ZA_FIkk-qdcG"
      },
      "source": [
        "# data = data.sample(data.shape[0]//2) # como o github so aceita arqu"
      ],
      "execution_count": null,
      "outputs": []
    },
    {
      "cell_type": "code",
      "metadata": {
        "colab": {
          "base_uri": "https://localhost:8080/"
        },
        "id": "ClibfJDnQ2LD",
        "outputId": "c30fdeb9-a3e7-4b82-d0e2-715e9053652f"
      },
      "source": [
        "corpus = generateCorpus(data)\n",
        "print(corpus[0:5])"
      ],
      "execution_count": null,
      "outputs": [
        {
          "output_type": "stream",
          "text": [
            "[['eu', 'não', 'tinha', 'este', 'rosto', 'de', 'hoje', ',', 'assim', 'calmo', ',', 'assim', 'triste', ',', 'assim', 'magro', ',', 'nem', 'estes', 'olhos', 'tão', 'vazios', ',', 'nem', 'o', 'lábio', 'amargo', '.', 'eu', 'não', 'tinha', 'estas', 'mãos', 'sem', 'força', ',', 'tão', 'paradas', 'e', 'frias', 'e', 'mortas;', 'eu', 'não', 'tinha', 'este', 'coração', 'que', 'nem', 'se', 'mostra', '.', 'eu', 'não', 'dei', 'por', 'esta', 'mudança', ',', 'tão', 'simples', ',', 'tão', 'certa', ',', 'tão', 'fácil', ':', '-', 'em', 'que', 'espelho', 'ficou', 'perdida', 'a', 'minha', 'face', '?', ''], ['eu', 'sei', 'e', 'você', 'sabe', 'já', 'que', 'a', 'vida', 'quis', 'assim', 'que', 'nada', 'nesse', 'mundo', 'levará', 'você', 'de', 'mim', 'eu', 'sei', 'e', 'você', 'sabe', 'que', 'a', 'distância', 'não', 'existe', 'que', 'todo', 'grande', 'amor', 'só', 'é', 'bem', 'grande', 'se', 'for', 'triste', 'por', 'isso', 'meu', 'amor', 'não', 'tenha', 'medo', 'de', 'sofrer', 'que', 'todos', 'os', 'caminhos', 'me', 'encaminham', 'a', 'você', '.', 'assim', 'como', 'o', 'oceano', ',', 'só', 'é', 'belo', 'com', 'o', 'luar', 'assim', 'como', 'a', 'canção', ',', 'só', 'tem', 'razão', 'se', 'se', 'cantar', 'assim', 'como', 'uma', 'nuvem', ',', 'só', 'acontece', 'se', 'chover', 'assim', 'como', 'o', 'poeta', ',', 'só', 'é', 'bem', 'grande', 'se', 'sofrer', 'assim', 'como', 'viver', 'sem', 'ter', 'amor', ',', 'não', 'é', 'viver', 'não', 'há', 'você', 'sem', 'mim', 'e', 'eu', 'não', 'existo', 'sem', 'você', '!', ''], ['porque', 'os', 'outros', 'se', 'mascaram', 'mas', 'tu', 'não', 'porque', 'os', 'outros', 'usam', 'a', 'virtude', 'para', 'comprar', 'o', 'que', 'não', 'tem', 'perdão', '.', 'porque', 'os', 'outros', 'têm', 'medo', 'mas', 'tu', 'não', '.', 'porque', 'os', 'outros', 'são', 'os', 'túmulos', 'caiados', 'onde', 'germina', 'calada', 'a', 'podridão', '.', 'porque', 'os', 'outros', 'se', 'calam', 'mas', 'tu', 'não', '.', 'porque', 'os', 'outros', 'se', 'compram', 'e', 'se', 'vendem', 'e', 'os', 'seus', 'gestos', 'dão', 'sempre', 'dividendo', '.', 'porque', 'os', 'outros', 'são', 'hábeis', 'mas', 'tu', 'não', '.', 'porque', 'os', 'outros', 'vão', 'à', 'sombra', 'dos', 'abrigos', 'e', 'tu', 'vais', 'de', 'mãos', 'dadas', 'com', 'os', 'perigos', '.', 'porque', 'os', 'outros', 'calculam', 'mas', 'tu', 'não', '.', ''], ['de', 'palavra', 'em', 'palavra', 'a', 'noite', 'sobe', 'aos', 'ramos', 'mais', 'altos', 'e', 'canta', 'o', 'êxtase', 'do', 'dia', '.', ''], ['há', 'homens', 'que', 'lutam', 'um', 'dia', ',', 'e', 'são', 'bons;', 'há', 'outros', 'que', 'lutam', 'um', 'ano', ',', 'e', 'são', 'melhores;', 'há', 'aqueles', 'que', 'lutam', 'muitos', 'anos', ',', 'e', 'são', 'muito', 'bons;', 'porém', 'há', 'os', 'que', 'lutam', 'toda', 'a', 'vida', 'estes', 'são', 'os', 'imprescindíveis']]\n"
          ],
          "name": "stdout"
        }
      ]
    },
    {
      "cell_type": "code",
      "metadata": {
        "colab": {
          "base_uri": "https://localhost:8080/"
        },
        "id": "ujEvGoEqRQPb",
        "outputId": "646f96d3-2a32-42ac-b1a7-d8bbb4b81529"
      },
      "source": [
        "tags = generateTags(corpus)\n",
        "print(tags[:100])"
      ],
      "execution_count": null,
      "outputs": [
        {
          "output_type": "stream",
          "text": [
            "['<s>', '<s>', 'eu', 'não', 'tinha', 'este', 'rosto', 'de', 'hoje', ',', 'assim', 'calmo', ',', 'assim', 'triste', ',', 'assim', 'magro', ',', 'nem', 'estes', 'olhos', 'tão', 'vazios', ',', 'nem', 'o', 'lábio', 'amargo', '.', 'eu', 'não', 'tinha', 'estas', 'mãos', 'sem', 'força', ',', 'tão', 'paradas', 'e', 'frias', 'e', 'mortas;', 'eu', 'não', 'tinha', 'este', 'coração', 'que', 'nem', 'se', 'mostra', '.', 'eu', 'não', 'dei', 'por', 'esta', 'mudança', ',', 'tão', 'simples', ',', 'tão', 'certa', ',', 'tão', 'fácil', ':', '-', 'em', 'que', 'espelho', 'ficou', 'perdida', 'a', 'minha', 'face', '?', '', '</s>', '<s>', '<s>', 'eu', 'sei', 'e', 'você', 'sabe', 'já', 'que', 'a', 'vida', 'quis', 'assim', 'que', 'nada', 'nesse', 'mundo', 'levará']\n"
          ],
          "name": "stdout"
        }
      ]
    },
    {
      "cell_type": "markdown",
      "metadata": {
        "id": "f-nfqzP5jPRB"
      },
      "source": [
        "## Criando Bigramas e Trigramas\n",
        "\n",
        "### Bigramas:\n",
        "\n",
        "### Trigramas:\n"
      ]
    },
    {
      "cell_type": "code",
      "metadata": {
        "colab": {
          "base_uri": "https://localhost:8080/"
        },
        "id": "YXg2UwpUjdhY",
        "outputId": "dbb22aef-ad91-4180-fe67-5e75de85c4d6"
      },
      "source": [
        "# gerando bigramas\n",
        "bigramas = bigrams(tags)\n",
        "#contando bigramas\n",
        "numBigrams = Counter(bigramas)\n",
        "numBigrams[('<s>', '<s>')]\n",
        "\n"
      ],
      "execution_count": null,
      "outputs": [
        {
          "output_type": "execute_result",
          "data": {
            "text/plain": [
              "1802"
            ]
          },
          "metadata": {
            "tags": []
          },
          "execution_count": 27
        }
      ]
    },
    {
      "cell_type": "code",
      "metadata": {
        "colab": {
          "base_uri": "https://localhost:8080/"
        },
        "id": "RWW3C8lsk1cY",
        "outputId": "2b07482e-01f7-4642-89d7-c04ea00112ad"
      },
      "source": [
        "trigramas = trigrams(tags)\n",
        "numTrigrams = Counter(trigramas)\n",
        "numTrigrams[('<s>', '<s>', 'eu')]"
      ],
      "execution_count": null,
      "outputs": [
        {
          "output_type": "execute_result",
          "data": {
            "text/plain": [
              "52"
            ]
          },
          "metadata": {
            "tags": []
          },
          "execution_count": 22
        }
      ]
    },
    {
      "cell_type": "markdown",
      "metadata": {
        "id": "uNDE6ysrozeg"
      },
      "source": [
        "Lista de bigramas e trigramas para que se possa calcular as probablidades"
      ]
    },
    {
      "cell_type": "code",
      "metadata": {
        "id": "UWAz1an8oq2Y"
      },
      "source": [
        "bigram_key = list(numBigrams.keys())\n",
        "trigram_key = list(numTrigrams.keys())"
      ],
      "execution_count": null,
      "outputs": []
    },
    {
      "cell_type": "code",
      "metadata": {
        "id": "JiOEyOXko9An"
      },
      "source": [
        "list_bigram = []\n",
        "list_lastword = []\n",
        "list_probs = []\n",
        "\n",
        "for t in trigram_key:\n",
        "    \n",
        "    ## create a bigram using the first two words of the trigram\n",
        "    key_bigram = (t[0], t[1])\n",
        "    \n",
        "    ## find how many times the trigram happened and divide it by the number of times that the bigram happened\n",
        "    prob = numTrigrams[t] / numBigrams[key_bigram]\n",
        "    \n",
        "    ## append the lists above\n",
        "    list_bigram.append(key_bigram)\n",
        "    list_lastword.append(t[2])\n",
        "    list_probs.append(prob)"
      ],
      "execution_count": null,
      "outputs": []
    },
    {
      "cell_type": "code",
      "metadata": {
        "id": "NIaZKUhLpHT_"
      },
      "source": [
        "model_df = pd.DataFrame({'bigram': list_bigram, 'lastword': list_lastword, 'prob': list_probs})\n"
      ],
      "execution_count": null,
      "outputs": []
    },
    {
      "cell_type": "code",
      "metadata": {
        "id": "9t5oD6r1EoeE"
      },
      "source": [
        "import pickle\n",
        "\n",
        "with open('model_df.pkl', 'wb') as f:\n",
        "    pickle.dump(model_df, f)\n"
      ],
      "execution_count": null,
      "outputs": []
    },
    {
      "cell_type": "code",
      "metadata": {
        "id": "UTQYz0GBE2sy"
      },
      "source": [
        "with open('model_df.pkl', 'rb') as f:\n",
        "     model_df_load = pickle.load(f)"
      ],
      "execution_count": null,
      "outputs": []
    },
    {
      "cell_type": "code",
      "metadata": {
        "colab": {
          "base_uri": "https://localhost:8080/",
          "height": 424
        },
        "id": "zkpZFBbupKl3",
        "outputId": "2b732d72-0950-43be-d75c-ae159ed0f821"
      },
      "source": [
        "test_df = model_df.loc[model_df['bigram'] == ('<s>', 'a')]\n",
        "test_df.sort_values('prob',ascending=False)"
      ],
      "execution_count": null,
      "outputs": [
        {
          "output_type": "execute_result",
          "data": {
            "text/html": [
              "<div>\n",
              "<style scoped>\n",
              "    .dataframe tbody tr th:only-of-type {\n",
              "        vertical-align: middle;\n",
              "    }\n",
              "\n",
              "    .dataframe tbody tr th {\n",
              "        vertical-align: top;\n",
              "    }\n",
              "\n",
              "    .dataframe thead th {\n",
              "        text-align: right;\n",
              "    }\n",
              "</style>\n",
              "<table border=\"1\" class=\"dataframe\">\n",
              "  <thead>\n",
              "    <tr style=\"text-align: right;\">\n",
              "      <th></th>\n",
              "      <th>bigram</th>\n",
              "      <th>lastword</th>\n",
              "      <th>prob</th>\n",
              "    </tr>\n",
              "  </thead>\n",
              "  <tbody>\n",
              "    <tr>\n",
              "      <th>24227</th>\n",
              "      <td>(&lt;s&gt;, a)</td>\n",
              "      <td>noite</td>\n",
              "      <td>0.030303</td>\n",
              "    </tr>\n",
              "    <tr>\n",
              "      <th>9608</th>\n",
              "      <td>(&lt;s&gt;, a)</td>\n",
              "      <td>tarde</td>\n",
              "      <td>0.030303</td>\n",
              "    </tr>\n",
              "    <tr>\n",
              "      <th>14147</th>\n",
              "      <td>(&lt;s&gt;, a)</td>\n",
              "      <td>poesia</td>\n",
              "      <td>0.030303</td>\n",
              "    </tr>\n",
              "    <tr>\n",
              "      <th>30103</th>\n",
              "      <td>(&lt;s&gt;, a)</td>\n",
              "      <td>minha</td>\n",
              "      <td>0.030303</td>\n",
              "    </tr>\n",
              "    <tr>\n",
              "      <th>22504</th>\n",
              "      <td>(&lt;s&gt;, a)</td>\n",
              "      <td>vida</td>\n",
              "      <td>0.030303</td>\n",
              "    </tr>\n",
              "    <tr>\n",
              "      <th>...</th>\n",
              "      <td>...</td>\n",
              "      <td>...</td>\n",
              "      <td>...</td>\n",
              "    </tr>\n",
              "    <tr>\n",
              "      <th>8751</th>\n",
              "      <td>(&lt;s&gt;, a)</td>\n",
              "      <td>serra</td>\n",
              "      <td>0.010101</td>\n",
              "    </tr>\n",
              "    <tr>\n",
              "      <th>118610</th>\n",
              "      <td>(&lt;s&gt;, a)</td>\n",
              "      <td>antítese</td>\n",
              "      <td>0.010101</td>\n",
              "    </tr>\n",
              "    <tr>\n",
              "      <th>118755</th>\n",
              "      <td>(&lt;s&gt;, a)</td>\n",
              "      <td>que</td>\n",
              "      <td>0.010101</td>\n",
              "    </tr>\n",
              "    <tr>\n",
              "      <th>120432</th>\n",
              "      <td>(&lt;s&gt;, a)</td>\n",
              "      <td>.</td>\n",
              "      <td>0.010101</td>\n",
              "    </tr>\n",
              "    <tr>\n",
              "      <th>258040</th>\n",
              "      <td>(&lt;s&gt;, a)</td>\n",
              "      <td>rosa</td>\n",
              "      <td>0.010101</td>\n",
              "    </tr>\n",
              "  </tbody>\n",
              "</table>\n",
              "<p>80 rows × 3 columns</p>\n",
              "</div>"
            ],
            "text/plain": [
              "          bigram  lastword      prob\n",
              "24227   (<s>, a)     noite  0.030303\n",
              "9608    (<s>, a)     tarde  0.030303\n",
              "14147   (<s>, a)    poesia  0.030303\n",
              "30103   (<s>, a)     minha  0.030303\n",
              "22504   (<s>, a)      vida  0.030303\n",
              "...          ...       ...       ...\n",
              "8751    (<s>, a)     serra  0.010101\n",
              "118610  (<s>, a)  antítese  0.010101\n",
              "118755  (<s>, a)       que  0.010101\n",
              "120432  (<s>, a)         .  0.010101\n",
              "258040  (<s>, a)      rosa  0.010101\n",
              "\n",
              "[80 rows x 3 columns]"
            ]
          },
          "metadata": {
            "tags": []
          },
          "execution_count": 28
        }
      ]
    },
    {
      "cell_type": "code",
      "metadata": {
        "id": "UGQSUNigpg0_"
      },
      "source": [
        "import random"
      ],
      "execution_count": null,
      "outputs": []
    },
    {
      "cell_type": "code",
      "metadata": {
        "colab": {
          "base_uri": "https://localhost:8080/"
        },
        "id": "ASw5hwhDpa-R",
        "outputId": "d3a54570-a31d-4087-fe62-a36012698936"
      },
      "source": [
        "\n",
        "num_sents = 2\n",
        "current_bigram = ('<s>', '<s>')\n",
        "i = 0\n",
        "while i < num_sents:\n",
        "    df = model_df.loc[model_df['bigram'] == current_bigram]\n",
        "    words = df['lastword'].values\n",
        "    probs = df['prob'].values\n",
        "    last_word = random.choices(words, probs)[0]\n",
        "    \n",
        "    current_bigram = (current_bigram[1], last_word)\n",
        "    \n",
        "    if last_word == '</s>':\n",
        "        i+=1\n",
        "    \n",
        "    if last_word != '<s>' and last_word != '</s>':\n",
        "        print(last_word, end=' ')"
      ],
      "execution_count": null,
      "outputs": [
        {
          "output_type": "stream",
          "text": [
            "a rosa de há muito emurchecida , rola e voa e vai rompendo o fato dele ter uma aversão profunda pelo clero . as silenciosas patinhas enluvadas se descompassaram no susto , na orquestra audaz do malho , o ar espantado de quem sou o centro desejar da natureza . mas , apenas habitar os teus olhos desleais , o dia que ergueu - nos o planeta descarnado e áspero adversário . . . a verdade . como um cristal , a formosura , o futuro . ciência e paciência , suplício seguro . de explicação das árvores e de afeto não ligo para nada . a ordem do dia de glória ! nunca me disse o terceiro em portugal , 194 jatir desprezo - te ? dize . . . . . era mister respirar a grandes haustos na natureza , amor que poderás dançar ao luar; mas não à nossa frente . no céu nem ficou apenas no espaço . não verás derrubar os virgens matos , gregório de . obra completa . introd . maria helena camargo régis . más companhias : poesia e prosa . são paulo : livr . morais , 1966 nota : o caso não tive piedade ? tu achas que é ela ! é a visão levou - como cabelos desfeitos no chão no infinito do tempo que já fomos , mudarmos apenas dentro de mim ! e havia tanta brasa em torno com seus bárbaros ruídos , ora a detêm . oh ! casa do fumo entre os mais , não posso adiar o coração .  "
          ],
          "name": "stdout"
        }
      ]
    },
    {
      "cell_type": "markdown",
      "metadata": {
        "id": "5oboEdaJpy1G"
      },
      "source": [
        "este poema não é nem boa nem má sorte desfazer os rumos do mundo ! e o padre que saía à procura de esquecido , à agonia rezava pela bruxa sem certeza . . vejo pello meo telhado no ceo grande resplendor , pela longa lista de boas intenções para arquivá - las fosse então o teu quotidiano , sobre algum tronco lascado sentar - te uma alma sonhadora , de un almuédano apesadumbra desde su nada y sombra - el oro , los tácitos convetillos del nortey el paredón de las casas de caramba brindaram com uma espada . que outros me sepultam sem antes vomitar umas boas litradas , e precipita as personagens – tanto o desejo : minha alma , depois , empinando - se na água caminhos feitos de água , código morse da espécie na terra para lá de um turbilhão de braços abertos esperar - te as selvas . . . . . . .  um medo . muros altos e muitas guerras por outros tão diversos ( os críticos literários brasileiros , não há céu na profunda aridez do mundo , descobrem a sombra , vi com um sussurro de mar e perfumes de rosas e as faíscas das chamas dos teus desejos . eram os mesmos filhos que não quis . ele os meus manos em louca lira , quero que as letras não tenho nada pra ninguém saber da qualidade da terra , fogo da estrela da tarde arrasta e procura viver de alma em flor esperassem à noite durmo aceso no dia de louras , de salmacis oscula o corpo á criança do sopro / da chama do amor por você , bicho da oropa tinha parte com o sol abrasa . lambo o suor de oito antologias , entronizado na liderança do movimento , diga : leva a sorrento ! . . . . . . . . . ) in : grandes poetas românticos do brasil . pref . fábio lucas . são paulo : massao ohno , 1989 . p . 145 - 147 nota : referência aos \"dois poemas acreanos\" ( i - nuns altos patamares estuda , lê , mulher; procura em minha boca . louca luz . a névoa azul paira sonhando . . )  \n"
      ]
    }
  ]
}